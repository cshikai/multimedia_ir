{
 "cells": [
  {
   "cell_type": "code",
   "execution_count": 1,
   "id": "2a77cafe",
   "metadata": {},
   "outputs": [
    {
     "name": "stderr",
     "output_type": "stream",
     "text": [
      "/opt/conda/lib/python3.8/site-packages/numpy/core/getlimits.py:499: UserWarning: The value of the smallest subnormal for <class 'numpy.float32'> type is zero.\n",
      "  setattr(self, word, getattr(machar, word).flat[0])\n",
      "/opt/conda/lib/python3.8/site-packages/numpy/core/getlimits.py:89: UserWarning: The value of the smallest subnormal for <class 'numpy.float32'> type is zero.\n",
      "  return self._float_to_str(self.smallest_subnormal)\n",
      "/opt/conda/lib/python3.8/site-packages/numpy/core/getlimits.py:499: UserWarning: The value of the smallest subnormal for <class 'numpy.float64'> type is zero.\n",
      "  setattr(self, word, getattr(machar, word).flat[0])\n",
      "/opt/conda/lib/python3.8/site-packages/numpy/core/getlimits.py:89: UserWarning: The value of the smallest subnormal for <class 'numpy.float64'> type is zero.\n",
      "  return self._float_to_str(self.smallest_subnormal)\n",
      "/opt/conda/lib/python3.8/site-packages/dask/dataframe/backends.py:187: FutureWarning: pandas.Int64Index is deprecated and will be removed from pandas in a future version. Use pandas.Index with the appropriate dtype instead.\n",
      "  _numeric_index_types = (pd.Int64Index, pd.Float64Index, pd.UInt64Index)\n",
      "/opt/conda/lib/python3.8/site-packages/dask/dataframe/backends.py:187: FutureWarning: pandas.Float64Index is deprecated and will be removed from pandas in a future version. Use pandas.Index with the appropriate dtype instead.\n",
      "  _numeric_index_types = (pd.Int64Index, pd.Float64Index, pd.UInt64Index)\n",
      "/opt/conda/lib/python3.8/site-packages/dask/dataframe/backends.py:187: FutureWarning: pandas.UInt64Index is deprecated and will be removed from pandas in a future version. Use pandas.Index with the appropriate dtype instead.\n",
      "  _numeric_index_types = (pd.Int64Index, pd.Float64Index, pd.UInt64Index)\n",
      "WARNING:root:Pytorch pre-release version 1.11.0a0+bfe5ad2 - assuming intent to test it\n",
      "/opt/conda/lib/python3.8/site-packages/xgboost/compat.py:36: FutureWarning: pandas.Int64Index is deprecated and will be removed from pandas in a future version. Use pandas.Index with the appropriate dtype instead.\n",
      "  from pandas import MultiIndex, Int64Index\n"
     ]
    }
   ],
   "source": [
    "from inference_api.visual_attention.manager import VAManager\n",
    "from inference_api.visual_attention.log_manager import VALogDatabaseManager"
   ]
  },
  {
   "cell_type": "code",
   "execution_count": 2,
   "id": "a1e6f0c9",
   "metadata": {},
   "outputs": [
    {
     "name": "stderr",
     "output_type": "stream",
     "text": [
      "INFO:allennlp.modules.elmo:Initializing ELMo\n"
     ]
    },
    {
     "name": "stdout",
     "output_type": "stream",
     "text": [
      "elmo embedder initialized on gpu?: False\n"
     ]
    },
    {
     "name": "stderr",
     "output_type": "stream",
     "text": [
      "/opt/conda/lib/python3.8/site-packages/elasticsearch/_sync/client/__init__.py:395: SecurityWarning: Connecting to 'https://elasticsearch:9200' using TLS with verify_certs=False is insecure\n",
      "  _transport = transport_class(\n"
     ]
    }
   ],
   "source": [
    "log_manager = VALogDatabaseManager('visual_attention')\n",
    "va_manager = VAManager(log_manager)"
   ]
  },
  {
   "cell_type": "code",
   "execution_count": 3,
   "id": "347a4af3",
   "metadata": {},
   "outputs": [
    {
     "name": "stderr",
     "output_type": "stream",
     "text": [
      "/opt/conda/lib/python3.8/site-packages/urllib3/connectionpool.py:1045: InsecureRequestWarning: Unverified HTTPS request is being made to host 'elasticsearch'. Adding certificate verification is strongly advised. See: https://urllib3.readthedocs.io/en/1.26.x/advanced-usage.html#ssl-warnings\n",
      "  warnings.warn(\n",
      "INFO:elastic_transport.transport:GET https://elasticsearch:9200/documents_m2e2/_doc/7cf0d234362b67199ce9fa588bbd3cd4 [status:200 duration:0.008s]\n"
     ]
    }
   ],
   "source": [
    "output = va_manager.infer([\"7cf0d234362b67199ce9fa588bbd3cd4\"])"
   ]
  },
  {
   "cell_type": "code",
   "execution_count": 4,
   "id": "349b33d3",
   "metadata": {},
   "outputs": [
    {
     "data": {
      "text/plain": [
       "{}"
      ]
     },
     "execution_count": 4,
     "metadata": {},
     "output_type": "execute_result"
    }
   ],
   "source": [
    "output"
   ]
  },
  {
   "cell_type": "code",
   "execution_count": null,
   "id": "4df37043",
   "metadata": {},
   "outputs": [],
   "source": []
  },
  {
   "cell_type": "code",
   "execution_count": 14,
   "id": "ff537c4e",
   "metadata": {},
   "outputs": [],
   "source": [
    "from inference_api.visual_attention.data_reader import VALiveDataReader\n",
    "reader = VALiveDataReader()\n",
    "result = reader.get_generator([\"7cf0d234362b67199ce9fa588bbd3cd4\"])"
   ]
  },
  {
   "cell_type": "code",
   "execution_count": 15,
   "id": "669cc2fd",
   "metadata": {
    "scrolled": false
   },
   "outputs": [
    {
     "name": "stdout",
     "output_type": "stream",
     "text": [
      "In Disguise\n",
      " In Disguise, VOA Team Ventures Into IS Stronghold News from the area was spotty at best.\n",
      "['', 'In', 'Disguise,', 'VOA', 'Team', 'Ventures', 'Into', 'IS', 'Stronghold', 'News', 'from', 'the', 'area', 'was', 'spotty', 'at', 'best.']\n",
      "{0: 0, 1: 1, 4: 2, 14: 3, 18: 4, 23: 5, 32: 6, 37: 7, 40: 8, 51: 9, 56: 10, 61: 11, 65: 12, 70: 13, 74: 14, 81: 15, 84: 16}\n",
      "In Disguise,\n",
      "Toyota Corolla\n",
      "We decided on a beat-up Toyota Corolla, a staple in Afghanistan, as our transportation.\n",
      "['We', 'decided', 'on', 'a', 'beat-up', 'Toyota', 'Corolla,', 'a', 'staple', 'in', 'Afghanistan,', 'as', 'our', 'transportation.']\n",
      "{0: 0, 3: 1, 11: 2, 14: 3, 16: 4, 24: 5, 31: 6, 40: 7, 42: 8, 49: 9, 52: 10, 65: 11, 68: 12, 72: 13}\n",
      "Toyota Corolla,\n",
      "Disguise\n",
      " In Disguise, VOA Team Ventures Into IS Stronghold News from the area was spotty at best.\n",
      "['', 'In', 'Disguise,', 'VOA', 'Team', 'Ventures', 'Into', 'IS', 'Stronghold', 'News', 'from', 'the', 'area', 'was', 'spotty', 'at', 'best.']\n",
      "{0: 0, 1: 1, 4: 2, 14: 3, 18: 4, 23: 5, 32: 6, 37: 7, 40: 8, 51: 9, 56: 10, 61: 11, 65: 12, 70: 13, 74: 14, 81: 15, 84: 16}\n",
      "Disguise,\n",
      "Taliban\n",
      "Disgruntled Taliban?\n",
      "['Disgruntled', 'Taliban?']\n",
      "{0: 0, 12: 1}\n",
      "Taliban?\n",
      "Foreigners\n",
      "Foreigners?\n",
      "['Foreigners?']\n",
      "{0: 0}\n",
      "Foreigners?\n",
      "South Asian \n",
      "My South Asian looks helped.\n",
      "['My', 'South', 'Asian', 'looks', 'helped.']\n",
      "{0: 0, 3: 1, 9: 2, 15: 3, 21: 4}\n",
      "South Asian\n",
      "Achin \n",
      "Boys observe as VOA cameraman Rahim Gul Sarwan prepares to shoot video in Achin district in eastern Afghanistan.\n",
      "['Boys', 'observe', 'as', 'VOA', 'cameraman', 'Rahim', 'Gul', 'Sarwan', 'prepares', 'to', 'shoot', 'video', 'in', 'Achin', 'district', 'in', 'eastern', 'Afghanistan.']\n",
      "{0: 0, 5: 1, 13: 2, 16: 3, 20: 4, 30: 5, 36: 6, 40: 7, 47: 8, 56: 9, 59: 10, 65: 11, 71: 12, 74: 13, 80: 14, 89: 15, 92: 16, 100: 17}\n",
      "Achin\n",
      "IS Stronghold News \n",
      " In Disguise, VOA Team Ventures Into IS Stronghold News from the area was spotty at best.\n",
      "['', 'In', 'Disguise,', 'VOA', 'Team', 'Ventures', 'Into', 'IS', 'Stronghold', 'News', 'from', 'the', 'area', 'was', 'spotty', 'at', 'best.']\n",
      "{0: 0, 1: 1, 4: 2, 14: 3, 18: 4, 23: 5, 32: 6, 37: 7, 40: 8, 51: 9, 56: 10, 61: 11, 65: 12, 70: 13, 74: 14, 81: 15, 84: 16}\n",
      "IS Stronghold News\n",
      "Afghanistan\n",
      "But this is Afghanistan.\n",
      "['But', 'this', 'is', 'Afghanistan.']\n",
      "{0: 0, 4: 1, 9: 2, 12: 3}\n",
      "Afghanistan.\n",
      "Rahim Gul Sarwan \n",
      "With me were cameraman Rahim Gul Sarwan and a local fixer, whose identity I will not reveal for security reasons.\n",
      "['With', 'me', 'were', 'cameraman', 'Rahim', 'Gul', 'Sarwan', 'and', 'a', 'local', 'fixer,', 'whose', 'identity', 'I', 'will', 'not', 'reveal', 'for', 'security', 'reasons.']\n",
      "{0: 0, 5: 1, 8: 2, 13: 3, 23: 4, 29: 5, 33: 6, 40: 7, 44: 8, 46: 9, 52: 10, 59: 11, 65: 12, 74: 13, 76: 14, 81: 15, 85: 16, 92: 17, 96: 18, 105: 19}\n",
      "Rahim Gul Sarwan\n",
      "Jalabad \n",
      "Jalabad as a proving ground We picked a low-profile hotel, not a place where foreigners or the wealthy stay, and asked for rooms on the second floor.\n",
      "['Jalabad', 'as', 'a', 'proving', 'ground', 'We', 'picked', 'a', 'low-profile', 'hotel,', 'not', 'a', 'place', 'where', 'foreigners', 'or', 'the', 'wealthy', 'stay,', 'and', 'asked', 'for', 'rooms', 'on', 'the', 'second', 'floor.']\n",
      "{0: 0, 8: 1, 11: 2, 13: 3, 21: 4, 28: 5, 31: 6, 38: 7, 40: 8, 52: 9, 59: 10, 63: 11, 65: 12, 71: 13, 77: 14, 88: 15, 91: 16, 95: 17, 103: 18, 109: 19, 113: 20, 119: 21, 123: 22, 129: 23, 132: 24, 136: 25, 143: 26}\n",
      "Jalabad\n",
      "VOA Team Ventures Into IS Stronghold News \n",
      " In Disguise, VOA Team Ventures Into IS Stronghold News from the area was spotty at best.\n",
      "['', 'In', 'Disguise,', 'VOA', 'Team', 'Ventures', 'Into', 'IS', 'Stronghold', 'News', 'from', 'the', 'area', 'was', 'spotty', 'at', 'best.']\n",
      "{0: 0, 1: 1, 4: 2, 14: 3, 18: 4, 23: 5, 32: 6, 37: 7, 40: 8, 51: 9, 56: 10, 61: 11, 65: 12, 70: 13, 74: 14, 81: 15, 84: 16}\n",
      "VOA Team Ventures Into IS Stronghold News\n",
      "IS \n",
      "Word of a visiting foreign journalist could spread quickly, perhaps to an IS spy or criminals looking for targets.\n",
      "['Word', 'of', 'a', 'visiting', 'foreign', 'journalist', 'could', 'spread', 'quickly,', 'perhaps', 'to', 'an', 'IS', 'spy', 'or', 'criminals', 'looking', 'for', 'targets.']\n",
      "{0: 0, 5: 1, 8: 2, 10: 3, 19: 4, 27: 5, 38: 6, 44: 7, 51: 8, 60: 9, 68: 10, 71: 11, 74: 12, 77: 13, 81: 14, 84: 15, 94: 16, 102: 17, 106: 18}\n",
      "IS\n",
      "Afghans\n",
      "Afghans?\n",
      "['Afghans?']\n",
      "{0: 0}\n",
      "Afghans?\n"
     ]
    },
    {
     "name": "stderr",
     "output_type": "stream",
     "text": [
      "/opt/conda/lib/python3.8/site-packages/urllib3/connectionpool.py:1045: InsecureRequestWarning: Unverified HTTPS request is being made to host 'elasticsearch'. Adding certificate verification is strongly advised. See: https://urllib3.readthedocs.io/en/1.26.x/advanced-usage.html#ssl-warnings\n",
      "  warnings.warn(\n"
     ]
    }
   ],
   "source": [
    "for i in result:\n",
    "    print(i['object_type'])"
   ]
  },
  {
   "cell_type": "code",
   "execution_count": 12,
   "id": "ed303830",
   "metadata": {},
   "outputs": [
    {
     "data": {
      "text/plain": [
       "<generator object VALiveDataReader.get_generator at 0x7fe5e1f80820>"
      ]
     },
     "execution_count": 12,
     "metadata": {},
     "output_type": "execute_result"
    }
   ],
   "source": [
    "result"
   ]
  },
  {
   "cell_type": "code",
   "execution_count": 7,
   "id": "1985fab8",
   "metadata": {},
   "outputs": [
    {
     "ename": "AttributeError",
     "evalue": "'generator' object has no attribute 'next'",
     "output_type": "error",
     "traceback": [
      "\u001b[0;31m---------------------------------------------------------------------------\u001b[0m",
      "\u001b[0;31mAttributeError\u001b[0m                            Traceback (most recent call last)",
      "\u001b[0;32m/tmp/ipykernel_3634/1282736743.py\u001b[0m in \u001b[0;36m<module>\u001b[0;34m\u001b[0m\n\u001b[0;32m----> 1\u001b[0;31m \u001b[0mresult\u001b[0m\u001b[0;34m.\u001b[0m\u001b[0mnext\u001b[0m\u001b[0;34m\u001b[0m\u001b[0;34m\u001b[0m\u001b[0m\n\u001b[0m",
      "\u001b[0;31mAttributeError\u001b[0m: 'generator' object has no attribute 'next'"
     ]
    }
   ],
   "source": []
  },
  {
   "cell_type": "code",
   "execution_count": null,
   "id": "13bc5748",
   "metadata": {},
   "outputs": [],
   "source": []
  }
 ],
 "metadata": {
  "kernelspec": {
   "display_name": "Python 3 (ipykernel)",
   "language": "python",
   "name": "python3"
  },
  "language_info": {
   "codemirror_mode": {
    "name": "ipython",
    "version": 3
   },
   "file_extension": ".py",
   "mimetype": "text/x-python",
   "name": "python",
   "nbconvert_exporter": "python",
   "pygments_lexer": "ipython3",
   "version": "3.8.12"
  }
 },
 "nbformat": 4,
 "nbformat_minor": 5
}
