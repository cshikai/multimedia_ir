{
 "cells": [
  {
   "cell_type": "code",
   "execution_count": 1,
   "metadata": {},
   "outputs": [],
   "source": [
    "import base64\n",
    "\n",
    "import requests\n",
    "import json"
   ]
  },
  {
   "cell_type": "code",
   "execution_count": 2,
   "metadata": {},
   "outputs": [],
   "source": [
    "# CLIENT NEEDS TO DO THIS\n",
    "with open('1.jpg', 'rb') as f:\n",
    "    im_bytes = f.read()\n",
    "im_b64 = base64.b64encode(im_bytes).decode('utf-8')"
   ]
  },
  {
   "cell_type": "code",
   "execution_count": 3,
   "metadata": {},
   "outputs": [],
   "source": [
    "headers = {'Content-type': 'application/json', 'Accept': 'text/plain'}\n",
    "payload = json.dumps({\"image\": im_b64})\n",
    "\n",
    "r = requests.post('http://localhost:8000/infer', data=payload, headers=headers)\n",
    "res = json.loads(r.text)"
   ]
  },
  {
   "cell_type": "code",
   "execution_count": 4,
   "metadata": {},
   "outputs": [],
   "source": [
    "def dim(a):\n",
    "    if not type(a) == list:\n",
    "        return []\n",
    "    return [len(a)] + dim(a[0])"
   ]
  },
  {
   "cell_type": "code",
   "execution_count": 5,
   "metadata": {},
   "outputs": [
    {
     "data": {
      "text/plain": [
       "[1, 3, 2048]"
      ]
     },
     "execution_count": 5,
     "metadata": {},
     "output_type": "execute_result"
    }
   ],
   "source": [
    "dim(res['embs'])"
   ]
  },
  {
   "cell_type": "code",
   "execution_count": null,
   "metadata": {},
   "outputs": [],
   "source": []
  },
  {
   "cell_type": "code",
   "execution_count": null,
   "metadata": {},
   "outputs": [],
   "source": []
  },
  {
   "cell_type": "code",
   "execution_count": null,
   "metadata": {},
   "outputs": [],
   "source": []
  },
  {
   "cell_type": "markdown",
   "metadata": {},
   "source": [
    "### FOR DEBUGGING"
   ]
  },
  {
   "cell_type": "code",
   "execution_count": null,
   "metadata": {},
   "outputs": [],
   "source": [
    "def read_yaml(file_path='./fast_api/src/config.yaml'):\n",
    "    with open(file_path, \"r\") as f:\n",
    "        return yaml.safe_load(f)\n",
    "\n",
    "config = read_yaml()\n",
    "\n",
    "import numpy as np\n",
    "import yaml\n",
    "import random\n",
    "import cv2\n",
    "from imageio.v2 import imread\n",
    "\n",
    "import sys\n",
    "import torch\n",
    "sys.path.append(\"./fast_api/src/yolo\")\n",
    "\n",
    "from utils.datasets import letterbox\n",
    "from models.experimental import attempt_load\n",
    "from utils.torch_utils import select_device, load_classifier\n",
    "from utils.general import (\n",
    "    check_img_size, non_max_suppression, apply_classifier, scale_coords, xyxy2xywh, plot_one_box, strip_optimizer, get_embedding)\n",
    "\n",
    "config['weights']='fast_api/src/yolov4-p5_.pt'"
   ]
  },
  {
   "cell_type": "code",
   "execution_count": null,
   "metadata": {},
   "outputs": [],
   "source": [
    "device = '0'\n",
    "device = select_device(device)\n",
    "half = device.type != 'cpu'\n",
    "model = attempt_load(config['weights'], map_location=device) # Load YOLO Model\n",
    "imgsz = check_img_size(config['img_size'], s=model.stride.max())  # check img_size\n",
    "if half:\n",
    "    model.half()  # to FP16\n",
    "if config['emb']:\n",
    "    # Load pre-saved resnet model locally, so don't need to download each time container spins up\n",
    "    classify_model = load_classifier(name='resnet101', n=2, local='fast_api/src/resnet101.pt') \n",
    "    classify_model.to(device).eval()\n",
    "names = model.module.names if hasattr(model, 'module') else model.names\n",
    "colors = [[random.randint(0, 255) for _ in range(3)] for _ in range(len(names))]"
   ]
  },
  {
   "cell_type": "code",
   "execution_count": null,
   "metadata": {},
   "outputs": [],
   "source": [
    "img_bytes = base64.b64decode(im_b64.encode('utf-8'))\n",
    "img = imread(img_bytes)\n",
    "# img0 = cv2.cvtColor(img, cv2.COLOR_RGB2BGR)\n",
    "img0 = img"
   ]
  },
  {
   "cell_type": "code",
   "execution_count": null,
   "metadata": {},
   "outputs": [],
   "source": [
    "img = letterbox(img0, new_shape=640)[0]\n",
    "\n",
    "img = img[:, :, ::-1].transpose(2, 0, 1)\n",
    "\n",
    "img = np.ascontiguousarray(img)\n",
    "\n",
    "img = torch.from_numpy(img).to(device)\n",
    "img = img.half() if half else img.float()\n",
    "img /= 255.0\n",
    "if img.ndimension() == 3:\n",
    "    img = img.unsqueeze(0)"
   ]
  },
  {
   "cell_type": "code",
   "execution_count": null,
   "metadata": {},
   "outputs": [],
   "source": [
    "pred = model(img, augment=config['augment'])[0]\n",
    "pred = non_max_suppression(pred, config['conf_thres'], config['iou_thres'], classes=None, agnostic=False)\n"
   ]
  },
  {
   "cell_type": "code",
   "execution_count": null,
   "metadata": {},
   "outputs": [],
   "source": [
    "for i, det in enumerate(pred):\n",
    "\n",
    "    s, im0 = '', img0\n",
    "    gn = torch.tensor(im0.shape)[[1, 0, 1, 0]]\n",
    "    if det is not None and len(det):\n",
    "        det[:, :4] = scale_coords(img.shape[2:], det[:, :4], im0.shape).round()\n",
    "        print(det)\n",
    "        \n",
    "        for *xyxy, conf, cls in det:\n",
    "            label = '%s' % (names[int(cls)])\n",
    "            print(label)\n",
    "            plot_one_box(xyxy, im0, label=label, color=colors[int(cls)], line_thickness=2)"
   ]
  },
  {
   "cell_type": "code",
   "execution_count": null,
   "metadata": {},
   "outputs": [],
   "source": [
    "from matplotlib import pyplot as plt\n",
    "plt.imshow(im0, interpolation='nearest')\n",
    "plt.imsave('test.png', im0)"
   ]
  }
 ],
 "metadata": {
  "interpreter": {
   "hash": "7b200fd45d0b01632016761db8bd096f41c70b07199cc6c21cb894d35ac4261f"
  },
  "kernelspec": {
   "display_name": "Python 3.8.13 64-bit ('yolo': conda)",
   "name": "python3"
  },
  "language_info": {
   "codemirror_mode": {
    "name": "ipython",
    "version": 3
   },
   "file_extension": ".py",
   "mimetype": "text/x-python",
   "name": "python",
   "nbconvert_exporter": "python",
   "pygments_lexer": "ipython3",
   "version": "3.8.13"
  },
  "orig_nbformat": 4
 },
 "nbformat": 4,
 "nbformat_minor": 2
}